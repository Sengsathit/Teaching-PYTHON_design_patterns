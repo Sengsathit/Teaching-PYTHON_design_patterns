{
 "cells": [
  {
   "cell_type": "markdown",
   "id": "54a82c24",
   "metadata": {},
   "source": [
    "![DESIGN_PATTERNS](img/design_patterns.jpeg)"
   ]
  },
  {
   "cell_type": "markdown",
   "id": "49a979df",
   "metadata": {},
   "source": [
    "Les **design patterns** (pattern en 🇫🇷) sont des **solutions éprouvées à des problèmes récurrents** dans la conception de logiciels.\n",
    "Ils servent de plans ou de schémas que l’on peut adapter pour résoudre un problème spécifique dans son propre code.\n",
    "___\n",
    "🔍 __Quelques exemples de problématiques concrètes__\n",
    "\n",
    "__. Problème__ : *Vous avez besoin qu’un seul objet contrôle l’accès à une ressource partagée (comme une base de données ou un fichier de configuration).*\\\n",
    "__. Pattern utilisé__ : `Singleton` \\\n",
    "__. Illustration__ : comme un seul robinet d’eau, tout le monde s’en sert, mais il n’y a qu’un seul point de contrôle.\n",
    "\n",
    "__. Problème__ : *Plusieurs parties de votre application doivent réagir automatiquement lorsqu’un événement se produit (par exemple, une nouvelle commande passée ou une donnée mise à jour).* \\\n",
    "__. Pattern utilisé__ : `Observer` \\\n",
    "__. Illustration__ : comme les abonnés d’une chaîne YouTube, dès qu’une vidéo sort, tous les abonnés reçoivent la notification automatiquement.\n",
    "\n",
    "__. Problème__  : *Vous devez créer des objets complexes dont la structure dépend de plusieurs paramètres (par exemple, générer différents types de documents ou de fenêtres selon le système d’exploitation).* \\\n",
    "__. Pattern utilisé__ : `Factory` \\\n",
    "__. Illustration__ : comme un chef cuisinier à qui on demande “un plat du jour”, selon les ingrédients du jour (les paramètres) il prépare le bon plat sans qu'on ne sache comment il le fait.\n",
    "\n",
    "__. Problème__ : *Vous voulez construire un objet complexe étape par étape, sans exposer les détails de sa construction, et pouvoir varier la représentation finale.* \\\n",
    "__. Pattern utilisé__ : `Builder` \\\n",
    "__. Illustration__ : comme faire une pizza en ajoutant la pâte, la sauce, le fromage et les garnitures. On peut changer les étapes ou les ingrédients pour créer une pizza différente (margarita, 4 fromages, etc.).\n",
    "___\n",
    "\n",
    "Les patterns ne sont pas de simples morceaux de code à copier-coller comme une fonction ou une librairie toute prête.\\\n",
    "Un pattern représente avant tout un concept général, une approche structurée pour résoudre un type de problème donné.\\\n",
    "Il fournit des principes directeurs que vous pouvez suivre pour concevoir votre propre implémentation, adaptée à votre programme.\n",
    "\n",
    "Les patterns sont souvent confondus avec les algorithmes, car tous deux proposent des solutions à des problèmes connus.\n",
    "Mais la différence est importante :\n",
    "- Un algorithme décrit une suite d’étapes précises menant à un résultat déterminé.\n",
    "- Un pattern, lui, décrit une solution à un niveau plus abstrait, sans imposer un code particulier.\n",
    "Ainsi, deux programmes peuvent appliquer le même pattern tout en ayant un code totalement différent.\n",
    "\n",
    "Pour simplifier :\\\n",
    "un algorithme ressemble à une recette de cuisine, où chaque étape est clairement définie\\\n",
    "un pattern est plutôt un plan architectural, qui indique les grandes lignes et les objectifs, mais laisse la liberté sur la façon de le réaliser."
   ]
  },
  {
   "cell_type": "markdown",
   "id": "a2114b7c",
   "metadata": {},
   "source": [
    "# 1. Rappels essentiels"
   ]
  },
  {
   "cell_type": "markdown",
   "id": "9bdd7c7d",
   "metadata": {},
   "source": [
    "Avant d’aborder les design patterns, il faut être au clair avec la programmation orientée objet (POO) et le langage UML.\\\n",
    "Les design patterns reposent sur les principes de la POO, comme les **classes**, les **objets**, l’**héritage** ou le **polymorphisme**. Ces notions servent de base pour concevoir des solutions réutilisables à différents problèmes de conception.\n",
    "\n",
    "**UML**, de son côté, offre un moyen clair de représenter les structures et les relations entre les objets, ce qui aide à visualiser et à expliquer les modèles de conception."
   ]
  },
  {
   "cell_type": "markdown",
   "id": "4c7c7855",
   "metadata": {},
   "source": [
    "## 1.1 POO"
   ]
  },
  {
   "cell_type": "markdown",
   "id": "19663612",
   "metadata": {},
   "source": [
    "### a. Classes"
   ]
  },
  {
   "cell_type": "markdown",
   "id": "4282bfe8",
   "metadata": {},
   "source": [
    "La programmation orientée objet est un **paradigme** qui repose sur la représentation des données et de leurs comportements sous forme d’**objets**. Ces objets sont créés à partir de « plans » définis par le développeur, appelés **classes**.\n",
    "\n",
    "<figure style=\"text-align: center; margin-top: 40px; margin-bottom: 20px;\">\n",
    "  <img src=\"img/class_cat.png\" alt=\"class_cat\" width=\"500\">\n",
    "  <figcaption style=\"color: #5DADE2;\"><i>Diagramme de classe</i></figcaption>\n",
    "</figure>"
   ]
  },
  {
   "cell_type": "markdown",
   "id": "0f92d84d",
   "metadata": {},
   "source": [
    "### b. Hiérarchies de classes "
   ]
  },
  {
   "cell_type": "markdown",
   "id": "7a56b893",
   "metadata": {},
   "source": [
    "Une classe parente, comme définie ci-dessous, est appelée **classe mère**, **super-classe** ou encore **classe de base**.\\\n",
    "Les classes qui en dérivent sont appelées **sous-classes** ou **classes dérivées**.\\\n",
    "Les sous-classes **héritent des attributs et des méthodes** de leur classe mère, tout en ajoutant ou en modifiant uniquement ce qui les différencie.\n",
    "\n",
    "Ainsi, par exemple, la classe `Cat` possède un attribut `isAutonomous` une méthode `meow()`, tandis que la classe `Dog` définit un attribut `isFriend` une méthode `bark()`.\n",
    "\n",
    "\n",
    "<figure style=\"text-align: center; margin-top: 40px; margin-bottom: 20px;\">\n",
    "  <img src=\"img/inheritance.png\" alt=\"inheritance\" width=\"500\">\n",
    "  <figcaption style=\"color: #5DADE2;\"><i>Diagramme de classe : héritage.</i></figcaption>\n",
    "</figure>\n",
    "\n",
    "\n",
    "\n",
    "Si nos besoins évoluent, nous pouvons aller encore plus loin et créer une classe plus générale, par exemple `Organism`, dont `Animal` et `Plant` seraient des sous-classes.\\\n",
    "L’ensemble de ces relations forme une **hiérarchie** : dans celle-ci, la classe `Cat` hérite des propriétés et des comportements définis dans les classes `Animal` et `Organism`.\n",
    "\n",
    "\n",
    "<figure style=\"text-align: center; margin-top: 40px; margin-bottom: 20px;\">\n",
    "  <img src=\"img/class_hierarchy.png\" alt=\"class_hierarchy\" width=\"500\">\n",
    "  <figcaption style=\"color: #5DADE2;\"><i>Hiérarchie de classes.</i></figcaption>\n",
    "</figure>\n",
    "\n",
    "\n",
    "🧠 **À retenir** : Les sous-classes peuvent modifier le comportement des méthodes héritées de leurs classes parentes. Elles peuvent soit remplacer entièrement ce comportement par défaut, soit l’enrichir en y ajoutant des fonctionnalités supplémentaires."
   ]
  },
  {
   "cell_type": "markdown",
   "id": "38b3ea9f",
   "metadata": {},
   "source": [
    "## 1.2 Les piliers de la POO"
   ]
  },
  {
   "cell_type": "markdown",
   "id": "1a12cf0a",
   "metadata": {},
   "source": [
    "La programmation orientée objet est basée sur quatre piliers.\n",
    "\n",
    "<figure style=\"text-align: center; margin-top: 40px; margin-bottom: 20px;\">\n",
    "  <img src=\"img/poo.png\" alt=\"poo\" width=\"800\">\n",
    "</figure>\n",
    "\n",
    "Lorsque vous programmez en orienté objet, vous passez la plupart du temps à modéliser des objets inspirés du monde réel. Cependant, ces objets ne sont pas des copies exactes de la réalité — et il est rare qu’ils aient besoin de l’être.\n",
    "Ils représentent uniquement les caractéristiques et comportements pertinents dans un contexte donné, en ignorant tout ce qui n’est pas utile."
   ]
  },
  {
   "cell_type": "markdown",
   "id": "1f2df74f",
   "metadata": {},
   "source": [
    "### a. Abstraction"
   ]
  },
  {
   "cell_type": "markdown",
   "id": "555e0f9e",
   "metadata": {},
   "source": [
    "Par exemple, une classe `Airplane` peut exister dans deux programmes très différents :\n",
    "- dans un simulateur de vol, elle décrira surtout les aspects liés au vol lui-même (moteurs, carburant, altitude, etc.) ;\n",
    "- dans une application de compagnie aérienne, elle concernera plutôt la configuration de la cabine et la disponibilité des sièges.\n",
    "\n",
    "Ainsi, un même objet du monde réel peut être modélisé différemment **selon le contexte**.\\\n",
    "C’est précisément cela l’**abstraction** : représenter un objet ou un phénomène réel en ne retenant que les éléments essentiels pour un usage donné, tout en ignorant le reste.\n",
    "\n",
    "🧠 **À retenir** : Pratiquer l'abstraction c'est réduire la complexité du réel.\n",
    "\n",
    "<figure style=\"text-align: center; margin-top: 40px; margin-bottom: 20px;\">\n",
    "  <img src=\"img/abstraction.png\" alt=\"abstraction\" width=\"500\">\n",
    "  <figcaption style=\"color: #5DADE2;\"><i>Deux modélisations différentes d'un même élément réel.</i></figcaption>\n",
    "</figure>\n"
   ]
  },
  {
   "cell_type": "code",
   "execution_count": 1,
   "id": "c5fd13b9",
   "metadata": {},
   "outputs": [],
   "source": [
    "# --- Classe concrète --- (contexte simulateur)\n",
    "class Airplane:\n",
    "    def __init__(self, speed, altitude):\n",
    "        self.speed = speed\n",
    "        self.altitude = altitude\n",
    "\n",
    "    def fly(self):\n",
    "        print(f\"Flying at {self.altitude} meters with a speed of {self.speed} km/h\")\n",
    "\n",
    "\n",
    "# --- Classe concrète --- (contexte compagnie aérienne)\n",
    "class Airplane:\n",
    "    def __init__(self, seats):\n",
    "        self.seats = seats\n",
    "        self.reserved_seats = 0\n",
    "\n",
    "    def reserve_seat(self):\n",
    "        if self.reserved_seats < self.seats:\n",
    "            self.reserved_seats += 1\n",
    "            print(f\"Seat reserved ({self.reserved_seats}/{self.seats})\")\n",
    "        else:\n",
    "            print(\"No seats available.\")"
   ]
  },
  {
   "cell_type": "markdown",
   "id": "d539f44c",
   "metadata": {},
   "source": [
    "### b. Encapsulation"
   ]
  },
  {
   "cell_type": "markdown",
   "id": "f4a1d6d9",
   "metadata": {},
   "source": [
    "L’encapsulation consiste à **protéger les données internes** d’un objet en ne permettant leur accès que par une interface contrôlée.\n",
    "Autrement dit, un objet cache ses détails internes (état et logique) et n’expose au reste du programme qu’un ensemble limité de méthodes publiques.\n",
    "\n",
    "Par exemple, pour démarrer une voiture, il suffit d’appuyer sur un bouton : le conducteur n’a pas besoin de manipuler le moteur ni de connaître son fonctionnement interne. Sous le capot, le système est complexe, mais l’utilisateur ne voit qu’une interface simple.\n",
    "\n",
    "C’est exactement le rôle de l’encapsulation :\n",
    "\n",
    "> isoler les détails d’implémentation derrière une interface publique afin de protéger l’état interne de l’objet et de garantir sa cohérence.\n",
    "\n",
    "En programmation orientée objet, cela se traduit par :\n",
    "- des attributs privés ou protégés (inaccessibles directement depuis l’extérieur) ;\n",
    "- des méthodes publiques servant à manipuler ces données de manière sécurisée.\n",
    "\n",
    "Ci-dessous, `__balance` (avec deux underscores) rend l’attribut non accessible directement depuis l’extérieur. (En réalité, Python ne bloque pas totalement l’accès, mais il le rend difficile).\\\n",
    "Les méthodes deposit() et get_balance() forment l’interface publique."
   ]
  },
  {
   "cell_type": "code",
   "execution_count": 2,
   "id": "8625ffa1",
   "metadata": {},
   "outputs": [
    {
     "name": "stdout",
     "output_type": "stream",
     "text": [
      "Current balance: 150\n"
     ]
    },
    {
     "ename": "AttributeError",
     "evalue": "'BankAccount' object has no attribute '__balance'",
     "output_type": "error",
     "traceback": [
      "\u001b[31m---------------------------------------------------------------------------\u001b[39m",
      "\u001b[31mAttributeError\u001b[39m                            Traceback (most recent call last)",
      "\u001b[36mCell\u001b[39m\u001b[36m \u001b[39m\u001b[32mIn[2]\u001b[39m\u001b[32m, line 29\u001b[39m\n\u001b[32m     26\u001b[39m \u001b[38;5;28mprint\u001b[39m(\u001b[33m\"\u001b[39m\u001b[33mCurrent balance:\u001b[39m\u001b[33m\"\u001b[39m, account.get_balance())\n\u001b[32m     28\u001b[39m \u001b[38;5;66;03m# Tentative d'accès direct à l'attribut privé\u001b[39;00m\n\u001b[32m---> \u001b[39m\u001b[32m29\u001b[39m \u001b[38;5;28mprint\u001b[39m(\u001b[43maccount\u001b[49m\u001b[43m.\u001b[49m\u001b[43m__balance\u001b[49m)  \u001b[38;5;66;03m# ❌ Erreur : AttributeError\u001b[39;00m\n",
      "\u001b[31mAttributeError\u001b[39m: 'BankAccount' object has no attribute '__balance'"
     ]
    }
   ],
   "source": [
    "# --- Classe concrète ---\n",
    "class BankAccount:\n",
    "    def __init__(self):\n",
    "        self.__balance = 0  # attribut privé\n",
    "\n",
    "    def deposit(self, amount):\n",
    "        if amount > 0:\n",
    "            self.__balance += amount\n",
    "        else:\n",
    "            print(\"Invalid amount\")\n",
    "\n",
    "    def withdraw(self, amount):\n",
    "        if 0 < amount <= self.__balance:\n",
    "            self.__balance -= amount\n",
    "        else:\n",
    "            print(\"Insufficient funds\")\n",
    "\n",
    "    def get_balance(self):\n",
    "        return self.__balance\n",
    "\n",
    "\n",
    "# --- Utilisation ---\n",
    "account = BankAccount()\n",
    "account.deposit(200)\n",
    "account.withdraw(50)\n",
    "print(\"Current balance:\", account.get_balance())\n",
    "\n",
    "# Tentative d'accès direct à l'attribut privé\n",
    "print(account.__balance)  # ❌ Erreur : AttributeError"
   ]
  },
  {
   "cell_type": "markdown",
   "id": "c0c6789e",
   "metadata": {},
   "source": [
    "### c. Héritage"
   ]
  },
  {
   "cell_type": "markdown",
   "id": "eea18aba",
   "metadata": {},
   "source": [
    "L’héritage permet de créer de nouvelles classes à partir de classes déjà existantes, ce qui favorise la **réutilisation du code**.\\\n",
    "Ainsi, si vous souhaitez concevoir une classe similaire à une autre, inutile de réécrire tout le code : il suffit d’étendre la classe existante pour former une sous-classe. Cette dernière **hérite alors des attributs et des méthodes de sa classe mère**, tout en pouvant y **ajouter des fonctionnalités spécifiques**.\n",
    "\n",
    "**Les sous-classes conservent la même interface que leur classe parente**. Il n’est donc pas possible de masquer une méthode héritée, et toutes les méthodes abstraites doivent être implémentées, même si cela semble parfois peu logique.\n",
    "\n",
    "Dans la plupart des langages, une sous-classe ne peut hériter que d’une seule classe mère. En revanche, **une classe peut implémenter plusieurs interfaces à la fois**. Par ailleurs, si une classe mère implémente une interface, toutes ses sous-classes doivent également la respecter.\n",
    "\n",
    "<figure style=\"text-align: center; margin-top: 40px; margin-bottom: 20px;\">\n",
    "  <img src=\"img/device_phone.png\" alt=\"device_phone\" width=\"500\">\n",
    "  <figcaption style=\"color: #5DADE2;\"><i>Héritage + Implémentation d'interface.</i></figcaption>\n",
    "</figure>"
   ]
  },
  {
   "cell_type": "code",
   "execution_count": null,
   "id": "149b6aba",
   "metadata": {},
   "outputs": [],
   "source": [
    "from abc import ABC, abstractmethod\n",
    "\n",
    "# --- Interfaces ---\n",
    "class Callable(ABC):\n",
    "    @abstractmethod\n",
    "    def call(self, number):\n",
    "        pass\n",
    "\n",
    "\n",
    "class Connectable(ABC):\n",
    "    @abstractmethod\n",
    "    def connect(self, network):\n",
    "        pass\n",
    "\n",
    "\n",
    "# --- Classe de base ---\n",
    "class Device(ABC):\n",
    "    @abstractmethod\n",
    "    def power_on(self):\n",
    "        pass\n",
    "\n",
    "\n",
    "# --- Classe concrète ---\n",
    "class Phone(Device, Callable, Connectable):\n",
    "    def power_on(self):\n",
    "        print(\"Phone is now ON\")\n",
    "\n",
    "    def call(self, number):\n",
    "        print(f\"Calling {number}...\")\n",
    "\n",
    "    def connect(self, network):\n",
    "        print(f\"Connecting to {network} network...\")\n",
    "\n",
    "\n",
    "# --- Utilisation ---\n",
    "my_phone = Phone()\n",
    "my_phone.power_on()\n",
    "my_phone.connect(\"Wi-Fi\")\n",
    "my_phone.call(\"+33 6 12 34 56 78\")"
   ]
  },
  {
   "cell_type": "markdown",
   "id": "7ede40e7",
   "metadata": {},
   "source": [
    "### c. Polymorphisme"
   ]
  },
  {
   "cell_type": "markdown",
   "id": "e77c6230",
   "metadata": {},
   "source": [
    "Le **polymorphisme** permet d’utiliser **une même méthode sur différents objets**, avec un **comportement propre à chacun**.\n",
    "Ici, `make_sound()` est définie dans la **classe abstraite** `Animal`, puis redéfinie dans Dog et Cat.\n",
    "Ainsi, un même appel `animal.make_sound()` produit un son différent selon l’animal.\n",
    "\n",
    "<figure style=\"text-align: center; margin-top: 40px; margin-bottom: 20px;\">\n",
    "  <img src=\"img/polymorphism.png\" alt=\"polymorphism\" width=\"500\">\n",
    "  <figcaption style=\"color: #5DADE2;\"><i>Polymorphisme.</i></figcaption>\n",
    "</figure>"
   ]
  },
  {
   "cell_type": "code",
   "execution_count": null,
   "id": "ae4e55d9",
   "metadata": {},
   "outputs": [],
   "source": [
    "from abc import ABC, abstractmethod\n",
    "\n",
    "# --- Classe abstraite ---\n",
    "class Animal(ABC):\n",
    "    @abstractmethod\n",
    "    def make_sound(self):\n",
    "        pass\n",
    "\n",
    "\n",
    "# --- Classes concrète ---\n",
    "class Dog(Animal):\n",
    "    def make_sound(self):\n",
    "        return \"Woof!\"\n",
    "\n",
    "\n",
    "class Cat(Animal):\n",
    "    def make_sound(self):\n",
    "        return \"Meow!\"\n",
    "\n",
    "# --- Utilisation ---    \n",
    "dog = Dog()\n",
    "cat = Cat()\n",
    "print(dog.make_sound())\n",
    "print(cat.make_sound())"
   ]
  },
  {
   "cell_type": "markdown",
   "id": "c7606bbd",
   "metadata": {},
   "source": [
    "## 1.3 UML : les relations"
   ]
  },
  {
   "cell_type": "markdown",
   "id": "42f52713",
   "metadata": {},
   "source": [
    "### a. Dépendance"
   ]
  },
  {
   "cell_type": "markdown",
   "id": "3eca19bb",
   "metadata": {},
   "source": [
    "Une dépendance est une **relation temporaire** entre deux classes.\n",
    "Elle se produit lorsqu’une classe utilise une autre sans en posséder une instance en attribut.\n",
    "\n",
    "Un changement dans la classe utilisée (par exemple le nom d’une méthode) peut casser le code de la classe dépendante.\n",
    "C’est donc une **relation faible et ponctuelle**, souvent visible lorsqu’une classe reçoit un objet en paramètre ou appelle directement une méthode d’une autre classe.\n",
    "\n",
    "<figure style=\"text-align: center; margin-top: 40px; margin-bottom: 20px;\">\n",
    "  <img src=\"img/dependency.png\" alt=\"dependency\" width=\"500\">\n",
    "  <figcaption style=\"color: #5DADE2;\"><i>Diagramme de dépendance entre classes.</i></figcaption>\n",
    "</figure>\n",
    "\n",
    "Dans l'exemple suivant, la classe `Teacher` dépend de la classe `Course`, car elle utilise son objet en paramètre de la méthode `teach()` et appelle sa méthode `get_knowledge()`.\n",
    "Si la méthode `get_knowledge()` venait à changer (par exemple renommée ou modifiée), le code du `Teacher` ne fonctionnerait plus.\n",
    "\n",
    "C’est donc une relation de dépendance : la classe `Teacher` ne contient pas de référence permanente à `Course`, elle ne fait qu’en utiliser une **instance temporairement** dans une méthode."
   ]
  },
  {
   "cell_type": "code",
   "execution_count": 20,
   "id": "b6d083ec",
   "metadata": {},
   "outputs": [
    {
     "name": "stdout",
     "output_type": "stream",
     "text": [
      "L'enseignant enseigne : \"Programmation orientée objet\"\n"
     ]
    }
   ],
   "source": [
    "class Course:\n",
    "    def __init__(self, title):\n",
    "        self.title = title\n",
    "\n",
    "    def get_knowledge(self):\n",
    "        return f\"{self.title}\"\n",
    "\n",
    "\n",
    "class Teacher:\n",
    "    # L'enseignant n’a pas d’attribut Course permanent\n",
    "    # Il utilise un objet Course uniquement dans une méthode\n",
    "    def teach(self, course):\n",
    "        print(f\"L'enseignant enseigne : \\\"{course.get_knowledge()}\\\"\")\n",
    "\n",
    "\n",
    "# Un cours est créé séparément\n",
    "course = Course(\"Programmation orientée objet\")\n",
    "\n",
    "# L'enseignant n’a pas besoin de garder le cours : il l’utilise seulement ici\n",
    "trainer = Teacher()\n",
    "trainer.teach(course)"
   ]
  },
  {
   "cell_type": "markdown",
   "id": "cb4052e1",
   "metadata": {},
   "source": [
    "### b. Association"
   ]
  },
  {
   "cell_type": "markdown",
   "id": "3186c218",
   "metadata": {},
   "source": [
    "Une association est une **relation plus stable** entre deux classes.\n",
    "Contrairement à la dépendance, qui est temporaire et liée à une méthode, l’association **relie deux objets de façon durable**, souvent à travers un attribut.\n",
    "\n",
    "Elle indique qu’un objet connaît un autre et peut interagir avec lui à tout moment.\n",
    "Par exemple, un formateur garde une référence vers ses élèves : il peut leur enseigner, les évaluer, ou leur parler sans recréer la relation à chaque fois.\n",
    "\n",
    "<figure style=\"text-align: center; margin-top: 40px; margin-bottom: 20px;\">\n",
    "  <img src=\"img/association.png\" alt=\"association\" width=\"500\">\n",
    "  <figcaption style=\"color: #5DADE2;\"><i>Association en UML. Un formateur communique avec ses élèves.</i></figcaption>\n",
    "</figure>"
   ]
  },
  {
   "cell_type": "markdown",
   "id": "b8b6f282",
   "metadata": {},
   "source": [
    "Dans l'exemple suivant, l'enseignant connaît son étudiant grâce à l’attribut `student`.\\\n",
    "Cette relation est permanente : `Teacher` peut faire appel à son `Student` à tout moment.\\\n",
    "C’est ce lien stable qui définit une **association**."
   ]
  },
  {
   "cell_type": "code",
   "execution_count": 17,
   "id": "5571b80e",
   "metadata": {},
   "outputs": [
    {
     "name": "stdout",
     "output_type": "stream",
     "text": [
      "Le professeur donne un cours.\n",
      "Alice étudie sa leçon.\n",
      "Alice étudie sa leçon.\n"
     ]
    }
   ],
   "source": [
    "class Student:\n",
    "    def __init__(self, name):\n",
    "        self.name = name\n",
    "\n",
    "    def study(self):\n",
    "        print(f\"{self.name} étudie sa leçon.\")\n",
    "\n",
    "\n",
    "class Teacher:\n",
    "    def __init__(self, student):\n",
    "        # Association : le professeur connaît l'étudiant\n",
    "        # Il garde une référence vers un objet Student existant\n",
    "        self.student = student\n",
    "\n",
    "    def teach(self):\n",
    "        print(\"Le professeur donne un cours.\")\n",
    "        self.student.study()  # Interaction directe avec l'élève associé\n",
    "\n",
    "\n",
    "# L'étudiant est créé indépendamment du professeur\n",
    "student = Student(\"Alice\")\n",
    "\n",
    "# Le professeur est ensuite associé à cet étudiant\n",
    "teacher = Teacher(student)\n",
    "\n",
    "# Le professeur peut interagir avec son étudiant\n",
    "teacher.teach()\n",
    "\n",
    "del teacher\n",
    "student.study()  # toujours valide"
   ]
  },
  {
   "cell_type": "markdown",
   "id": "7f374e31",
   "metadata": {},
   "source": [
    "### c. Agrégation"
   ]
  },
  {
   "cell_type": "markdown",
   "id": "6d07e794",
   "metadata": {},
   "source": [
    "L’agrégation est une **forme particulière d’association**.\\\n",
    "Elle exprime une relation “tout / partie” où une classe contient d’autres objets, sans en être totalement responsable.\\\n",
    "Autrement dit, si l’objet principal disparaît, les objets contenus **peuvent exister indépendamment**.\n",
    "\n",
    "Exemple : un département contient des enseignants, mais ceux-ci peuvent appartenir à un autre département ou exister sans lui.\n",
    "\n",
    "<figure style=\"text-align: center; margin-top: 40px; margin-bottom: 20px;\">\n",
    "  <img src=\"img/agregation.png\" alt=\"agregation\" width=\"500\">\n",
    "  <figcaption style=\"color: #5DADE2;\"><i>Agrégation en UML. Un département contient des enseignants.</i></figcaption>\n",
    "</figure>"
   ]
  },
  {
   "cell_type": "markdown",
   "id": "70531fef",
   "metadata": {},
   "source": [
    "Ici, la classe `Department` agrège plusieurs `Teacher`.\\\n",
    "Les enseignants existent en dehors du département : si le département est supprimé, les professeurs continuent d’exister et peuvent être rattachés à un autre département.\\\n",
    "C’est ce qui distingue l’agrégation d’une simple association."
   ]
  },
  {
   "cell_type": "code",
   "execution_count": 13,
   "id": "87623cc5",
   "metadata": {},
   "outputs": [
    {
     "name": "stdout",
     "output_type": "stream",
     "text": [
      "Département Informatique :\n",
      " - Alice\n",
      " - Bob\n",
      "Le professeur Alice enseigne.\n"
     ]
    }
   ],
   "source": [
    "class Teacher:\n",
    "    def __init__(self, name):\n",
    "        self.name = name\n",
    "\n",
    "    def teach(self):\n",
    "        print(f\"Le professeur {self.name} enseigne.\")\n",
    "\n",
    "\n",
    "class Department:\n",
    "    def __init__(self, name):\n",
    "        self.name = name\n",
    "        self.teachers = []  # Agrégation : contient des professeurs\n",
    "\n",
    "    def add_teacher(self, professor):\n",
    "        self.teachers.append(professor)\n",
    "\n",
    "    def list_teachers(self):\n",
    "        print(f\"Département {self.name} :\")\n",
    "        for prof in self.teachers:\n",
    "            print(f\" - {prof.name}\")\n",
    "\n",
    "\n",
    "# Les professeurs sont créés indépendamment du département\n",
    "prof1 = Teacher(\"Alice\")\n",
    "prof2 = Teacher(\"Bob\")\n",
    "\n",
    "# Le département est ensuite créé\n",
    "dep = Department(\"Informatique\")\n",
    "\n",
    "# On lie les professeurs existants au département\n",
    "dep.add_teacher(prof1)\n",
    "dep.add_teacher(prof2)\n",
    "\n",
    "# Affichage des enseignants du département\n",
    "dep.list_teachers()\n",
    "\n",
    "# Même si le département est supprimé,\n",
    "# les professeurs continuent d’exister et peuvent être réutilisés\n",
    "del dep\n",
    "prof1.teach()   # Toujours valide → indépendance des objets"
   ]
  },
  {
   "cell_type": "markdown",
   "id": "e74f42ca",
   "metadata": {},
   "source": [
    "### d. Composition"
   ]
  },
  {
   "cell_type": "markdown",
   "id": "6f82c6b7",
   "metadata": {},
   "source": [
    "La composition est une **relation encore plus forte que l’agrégation**.\\\n",
    "Elle exprime un lien “tout / partie” où les objets contenus **n’existent que grâce à l’objet principal**.\\\n",
    "Autrement dit, si le tout est supprimé, ses parties le sont aussi.\n",
    "\n",
    "Exemple : une université est composée de départements. Si l’université disparaît, ses départements disparaissent avec elle.\n",
    "\n",
    "<figure style=\"text-align: center; margin-top: 40px; margin-bottom: 20px;\">\n",
    "  <img src=\"img/composition.png\" alt=\"composition\" width=\"500\">\n",
    "  <figcaption style=\"color: #5DADE2;\"><i>Composition en UML. Une université est composée de départements.</i></figcaption>\n",
    "</figure>"
   ]
  },
  {
   "cell_type": "markdown",
   "id": "b76aa6a8",
   "metadata": {},
   "source": [
    "Ici, la classe `Department` agrège plusieurs `Teacher`.\\\n",
    "Les enseignants existent en dehors du département : si le département est supprimé, les professeurs continuent d’exister et peuvent être rattachés à un autre département.\\\n",
    "C’est ce qui distingue l’agrégation d’une simple association."
   ]
  },
  {
   "cell_type": "code",
   "execution_count": 24,
   "id": "1baafee3",
   "metadata": {},
   "outputs": [
    {
     "name": "stdout",
     "output_type": "stream",
     "text": [
      "L'université \"Université de Lyon\" contient :\n",
      "UFR de Informatique\n",
      "UFR de Mathématiques\n",
      "UFR de Physique\n"
     ]
    }
   ],
   "source": [
    "class Department:\n",
    "    def __init__(self, name):\n",
    "        self.name = name\n",
    "\n",
    "    def describe(self):\n",
    "        print(f\"UFR de {self.name}\")\n",
    "\n",
    "\n",
    "class University:\n",
    "    def __init__(self, name):\n",
    "        self.name = name\n",
    "        # Composition : l'université crée et possède ses départements\n",
    "        self.departments = [\n",
    "            Department(\"Informatique\"),\n",
    "            Department(\"Mathématiques\"),\n",
    "            Department(\"Physique\")\n",
    "        ]\n",
    "\n",
    "    def list_departments(self):\n",
    "        print(f\"L'université \\\"{self.name}\\\" contient :\")\n",
    "        for dept in self.departments:\n",
    "            dept.describe()\n",
    "\n",
    "\n",
    "# Exemple d'utilisation\n",
    "uni = University(\"Université de Lyon\")\n",
    "uni.list_departments()\n",
    "\n",
    "# Si l'université est supprimée, ses départements n'existent plus\n",
    "del uni\n",
    "# Les départements ne peuvent pas être utilisés sans l'université"
   ]
  },
  {
   "cell_type": "markdown",
   "id": "e72a0a94",
   "metadata": {},
   "source": [
    "## 1.4 Résumé"
   ]
  },
  {
   "cell_type": "markdown",
   "id": "e242ca0c",
   "metadata": {},
   "source": [
    "- **Dépendance** : la classe A utilise la classe B. Si B change, A peut être impactée.\n",
    "- **Association** : l’objet A connaît l’objet B. Le lien est stable mais pas exclusif.\n",
    "- **Agrégation** : l’objet A regroupe plusieurs objets B, qui peuvent toutefois exister sans A.\n",
    "- **Composition** : l’objet A contient des objets B et contrôle leur cycle de vie. Si A disparaît, tous les objets B aussi.\n",
    "- **Implémentation** : la classe A applique les méthodes définies dans l’interface B. A peut être traitée/considérée comme un B.\n",
    "- **Héritage** : la classe A hérite des propriétés et comportements de B, et peut les étendre ou les modifier.\n",
    "\n",
    "<figure style=\"text-align: center; margin-top: 40px; margin-bottom: 20px;\">\n",
    "  <img src=\"img/relations_summary.png\" alt=\"relations_summary\" width=\"500\">\n",
    "  <figcaption style=\"color: #5DADE2;\"><i>Relations entre les objets et les classes : de la plus faible à la plus forte.</i></figcaption>\n",
    "</figure>"
   ]
  },
  {
   "cell_type": "markdown",
   "id": "1b7afd7d",
   "metadata": {},
   "source": [
    "# 2. Généralités sur les design patterns"
   ]
  },
  {
   "cell_type": "markdown",
   "id": "c1e8e94d",
   "metadata": {},
   "source": [
    "**Qui a inventé les design patterns ?**\n",
    "\n",
    "La question est pertinente, mais le terme « inventer » n’est pas vraiment approprié.\n",
    "Les design patterns ne sont pas des théories abstraites ou complexes, mais plutôt des solutions éprouvées à des problèmes récurrents en conception orientée objet.\n",
    "Lorsqu’un même problème se présente dans de nombreux projets, il arrive qu’un développeur formalise la solution et lui donne un nom : c’est ainsi qu’un pattern de conception naît.\n",
    "\n",
    "L’idée de base vient de l’architecte Christopher Alexander, qui, dans son ouvrage A Pattern Language: Towns, Buildings, Construction, proposait un langage pour concevoir des environnements urbains.\n",
    "Chaque pattern y représentait une règle ou une bonne pratique — par exemple, la hauteur idéale des fenêtres ou la proportion d’espaces verts dans un quartier.\n",
    "\n",
    "Plus tard, Erich Gamma, John Vlissides, Ralph Johnson et Richard Helm ont transposé ce concept au développement logiciel.\n",
    "En 1994, ils publient le livre `Design Patterns: Elements of Reusable Object-Oriented Software`, qui recense 23 patterns pour résoudre des problèmes courants de conception orientée objet.\n",
    "Le succès fut immédiat : l’ouvrage est rapidement devenu une référence, connu simplement sous le nom de `“GoF book”`, pour Gang of Four.\n",
    "\n",
    "Depuis, de nombreux autres patterns ont été identifiés, parfois spécifiques à d’autres domaines de la programmation.\n",
    "L’approche s’est tellement répandue qu’aujourd’hui, le concept de pattern dépasse largement la programmation orientée objet.\n",
    "\\\n",
    "\\\n",
    "**Pourquoi apprendre les design patterns ?**\n",
    "\n",
    "Il est tout à fait possible de travailler comme développeur pendant des années sans connaître formellement les design patterns.\n",
    "Beaucoup de professionnels y parviennent sans difficulté.\n",
    "Mais, même sans les avoir étudiés, il est fort probable que vous en ayez déjà utilisé sans le savoir.\n",
    "\n",
    "**Alors, pourquoi les apprendre consciemment ?**\n",
    "\n",
    "1) Car c'est une boîte à outils de solutions éprouvées.\n",
    "\n",
    "Les design patterns constituent un ensemble de solutions fiables et réutilisables pour résoudre des problèmes classiques de conception logicielle.\n",
    "Les connaître vous aide à comprendre les principes fondamentaux de la conception orientée objet, et à les appliquer à toutes sortes de situations, même inédites.\n",
    "\n",
    "2) Car c'est un langage commun entre développeurs.\n",
    "\n",
    "Les patterns servent aussi de vocabulaire partagé.\n",
    "Dire à un collègue : « On pourrait appliquer un singleton ici » suffit pour qu’il comprenne immédiatement l’idée.\n",
    "Cela évite de longues explications techniques : le simple nom du pattern résume déjà toute une approche."
   ]
  },
  {
   "cell_type": "markdown",
   "id": "04116b2e",
   "metadata": {},
   "source": [
    "## 2.1 Classification de design patterns"
   ]
  },
  {
   "cell_type": "markdown",
   "id": "e3e6eee0",
   "metadata": {},
   "source": [
    "Les design patterns sont des modèles de solutions à différents types de problèmes. Certains servent à créer des objets, d’autres à organiser le code, ou encore à faire interagir des objets entre eux.\n",
    "\n",
    "On distingue trois grandes familles :\n",
    "- `Creational patterns` → expliquent comment créer des objets sans rendre le code rigide.\\\n",
    "*Exemple : choisir la bonne façon d’instancier un objet selon la situation.*\n",
    "\n",
    "- `Structural patterns` → montrent comment relier des classes ou des objets entre eux.\\\n",
    "*Exemple : assembler plusieurs objets pour qu’ils fonctionnent ensemble sans tout réécrire.*\n",
    "\n",
    "- `Behavioral patterns` → décrivent comment les objets communiquent et se partagent les tâches.\\\n",
    "*Exemple : faire en sorte qu’un objet notifie d’autres objets quand il change d’état.*"
   ]
  }
 ],
 "metadata": {
  "kernelspec": {
   "display_name": ".venv",
   "language": "python",
   "name": "python3"
  },
  "language_info": {
   "codemirror_mode": {
    "name": "ipython",
    "version": 3
   },
   "file_extension": ".py",
   "mimetype": "text/x-python",
   "name": "python",
   "nbconvert_exporter": "python",
   "pygments_lexer": "ipython3",
   "version": "3.12.11"
  }
 },
 "nbformat": 4,
 "nbformat_minor": 5
}
